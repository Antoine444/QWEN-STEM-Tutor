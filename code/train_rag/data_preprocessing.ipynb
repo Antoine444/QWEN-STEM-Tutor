{
 "cells": [
  {
   "cell_type": "code",
   "execution_count": null,
   "id": "81aab788",
   "metadata": {},
   "outputs": [
    {
     "name": "stdout",
     "output_type": "stream",
     "text": [
      "Downloading from https://www.kaggle.com/api/v1/datasets/download/conjuring92/wiki-stem-corpus?dataset_version_number=1...\n"
     ]
    },
    {
     "name": "stderr",
     "output_type": "stream",
     "text": [
      "100%|██████████| 850M/850M [04:15<00:00, 3.48MB/s] "
     ]
    },
    {
     "name": "stdout",
     "output_type": "stream",
     "text": [
      "Extracting files...\n"
     ]
    },
    {
     "name": "stderr",
     "output_type": "stream",
     "text": [
      "\n"
     ]
    },
    {
     "name": "stdout",
     "output_type": "stream",
     "text": [
      "Path to dataset files: C:\\Users\\benka\\.cache\\kagglehub\\datasets\\conjuring92\\wiki-stem-corpus\\versions\\1\n"
     ]
    }
   ],
   "source": [
    "import kagglehub\n",
    "import pandas as pd\n",
    "\n",
    "# Download latest version\n",
    "path = kagglehub.dataset_download(\"conjuring92/wiki-stem-corpus\")\n",
    "\n",
    "print(\"Path to dataset files:\", path)"
   ]
  },
  {
   "cell_type": "code",
   "execution_count": null,
   "id": "9642fdaa",
   "metadata": {},
   "outputs": [
    {
     "name": "stdout",
     "output_type": "stream",
     "text": [
      "       content_id      page_title       section_title  \\\n",
      "0  c_kbhf1zvm1cz7           Guyot             Summary   \n",
      "1  c_lmv2h0j1k23a   Critical flow  Ship hydrodynamics   \n",
      "2  c_h32tma038smv  Dead reckoning              Marine   \n",
      "3  c_ezzt9zepfr1m  Dead reckoning              Marine   \n",
      "4  c_f96f9w388edt  Dead reckoning              Marine   \n",
      "\n",
      "                                          breadcrumb  \\\n",
      "0                                              Guyot   \n",
      "1  Froude_resistance_curve > Other applications >...   \n",
      "2  Pedestrian_dead_reckoning > Vehicular navigati...   \n",
      "3  Pedestrian_dead_reckoning > Vehicular navigati...   \n",
      "4  Pedestrian_dead_reckoning > Vehicular navigati...   \n",
      "\n",
      "                                                text  \n",
      "0  In marine geology, a guyot (), also called a t...  \n",
      "1  In marine hydrodynamic applications, the Froud...  \n",
      "2  In marine navigation a \"dead\" reckoning plot g...  \n",
      "3  More modern methods include pit log referencin...  \n",
      "4  This change is then converted to ship's speed....  \n"
     ]
    }
   ],
   "source": [
    "# Replace 'your_file.csv' with the path to your CSV file\n",
    "df = pd.read_csv('wiki_stem_corpus.csv')\n",
    "\n",
    "# Print the first 5 rows\n",
    "print(df.head())"
   ]
  },
  {
   "cell_type": "code",
   "execution_count": 6,
   "id": "a22779e6",
   "metadata": {},
   "outputs": [
    {
     "name": "stdout",
     "output_type": "stream",
     "text": [
      "Column names: Index(['content_id', 'page_title', 'section_title', 'breadcrumb', 'text'], dtype='object')\n"
     ]
    }
   ],
   "source": [
    "# Print the column names\n",
    "print(\"Column names:\", df.columns)"
   ]
  },
  {
   "cell_type": "code",
   "execution_count": 11,
   "id": "cb632dea",
   "metadata": {},
   "outputs": [],
   "source": [
    "\n",
    "\n",
    "# df is your existing DataFrame and **must** have a column named page_title\n",
    "df[\"url\"] = (\n",
    "    \"https://en.wikipedia.org/wiki/\" +\n",
    "    df[\"page_title\"]\n",
    "        .astype(str)                # in case it’s not already string\n",
    "        .str.strip()                # drop leading / trailing blanks\n",
    "        .str.replace(\" \", \"_\")      # Wikipedia uses underscores\n",
    ")\n",
    "\n",
    "# if you want to persist the result\n",
    "df.to_csv(\"wiki_stem_corpus_with_url.csv\", index=False)   # or .parquet\n"
   ]
  },
  {
   "cell_type": "code",
   "execution_count": 15,
   "id": "9a8d1bfa",
   "metadata": {},
   "outputs": [
    {
     "name": "stdout",
     "output_type": "stream",
     "text": [
      "       content_id      page_title       section_title  \\\n",
      "0  c_kbhf1zvm1cz7           Guyot             Summary   \n",
      "1  c_lmv2h0j1k23a   Critical flow  Ship hydrodynamics   \n",
      "2  c_h32tma038smv  Dead reckoning              Marine   \n",
      "3  c_ezzt9zepfr1m  Dead reckoning              Marine   \n",
      "4  c_f96f9w388edt  Dead reckoning              Marine   \n",
      "\n",
      "                                          breadcrumb  \\\n",
      "0                                              Guyot   \n",
      "1  Froude_resistance_curve > Other applications >...   \n",
      "2  Pedestrian_dead_reckoning > Vehicular navigati...   \n",
      "3  Pedestrian_dead_reckoning > Vehicular navigati...   \n",
      "4  Pedestrian_dead_reckoning > Vehicular navigati...   \n",
      "\n",
      "                                                text  \\\n",
      "0  In marine geology, a guyot (), also called a t...   \n",
      "1  In marine hydrodynamic applications, the Froud...   \n",
      "2  In marine navigation a \"dead\" reckoning plot g...   \n",
      "3  More modern methods include pit log referencin...   \n",
      "4  This change is then converted to ship's speed....   \n",
      "\n",
      "                                            url  \n",
      "0           https://en.wikipedia.org/wiki/Guyot  \n",
      "1   https://en.wikipedia.org/wiki/Critical_flow  \n",
      "2  https://en.wikipedia.org/wiki/Dead_reckoning  \n",
      "3  https://en.wikipedia.org/wiki/Dead_reckoning  \n",
      "4  https://en.wikipedia.org/wiki/Dead_reckoning  \n"
     ]
    }
   ],
   "source": [
    "print(df.head())"
   ]
  },
  {
   "cell_type": "code",
   "execution_count": 16,
   "id": "4adcb307",
   "metadata": {},
   "outputs": [],
   "source": [
    "# Select only the 'text' and 'url' columns and rename them\n",
    "new_df = df[[\"text\", \"url\"]].rename(columns={\"text\": \"text\", \"url\": \"source\"})\n",
    "\n",
    "# Save the new DataFrame to a CSV file\n",
    "new_df.to_csv(\"text_and_source.csv\", index=False)"
   ]
  }
 ],
 "metadata": {
  "kernelspec": {
   "display_name": "mnlp",
   "language": "python",
   "name": "python3"
  },
  "language_info": {
   "codemirror_mode": {
    "name": "ipython",
    "version": 3
   },
   "file_extension": ".py",
   "mimetype": "text/x-python",
   "name": "python",
   "nbconvert_exporter": "python",
   "pygments_lexer": "ipython3",
   "version": "3.10.11"
  }
 },
 "nbformat": 4,
 "nbformat_minor": 5
}
